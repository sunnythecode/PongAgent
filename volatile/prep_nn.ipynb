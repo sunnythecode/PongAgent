{
 "cells": [
  {
   "cell_type": "code",
   "execution_count": 1,
   "metadata": {},
   "outputs": [],
   "source": [
    "from nn import neural_net\n",
    "import numpy as np"
   ]
  },
  {
   "cell_type": "code",
   "execution_count": 2,
   "metadata": {},
   "outputs": [],
   "source": [
    "#State Information\n",
    "'''\n",
    "We have to pass in a state to the neural network\n",
    "The model's position(x, y) should be parameters\n",
    "The ball's x, y and x, y speeds should be parameters\n",
    "The opponent's y position could also be a parameter\n",
    "This makes 7 parameters to pass to the model\n",
    "\n",
    "The model then has to perform some sort of extraction to decide UP or DOWN\n",
    "A wait option could also work\n",
    "\n",
    "Lets go for more neurons, less layers(worked for digit recognization)\n",
    "7 -> 64 -> 32 -> 1\n",
    "\n",
    "My guess is that more layers, smaller sizes may fit this problem better\n",
    "But we'll try the opposite for now \n",
    "'''\n",
    "model = neural_net([7, 64, 32, 1])"
   ]
  },
  {
   "cell_type": "code",
   "execution_count": 32,
   "metadata": {},
   "outputs": [],
   "source": [
    "k = np.array([0, 1, 0, 1, 0.1, 1, 0.0]).T.reshape(-1, 1)\n",
    "y = np.array([[0.0]])\n",
    "n = model.forward_prop(k)[-1][0]"
   ]
  },
  {
   "cell_type": "code",
   "execution_count": 36,
   "metadata": {},
   "outputs": [
    {
     "data": {
      "text/plain": [
       "0.04556667802423097"
      ]
     },
     "execution_count": 36,
     "metadata": {},
     "output_type": "execute_result"
    }
   ],
   "source": [
    "n[0, 0]"
   ]
  },
  {
   "cell_type": "code",
   "execution_count": 38,
   "metadata": {},
   "outputs": [
    {
     "data": {
      "text/plain": [
       "1.0"
      ]
     },
     "execution_count": 38,
     "metadata": {},
     "output_type": "execute_result"
    }
   ],
   "source": [
    "np.round(0.8)"
   ]
  },
  {
   "cell_type": "code",
   "execution_count": null,
   "metadata": {},
   "outputs": [],
   "source": [
    "#Single example of training data\n",
    "model.train([k], [y], 30, 0.001)"
   ]
  },
  {
   "cell_type": "markdown",
   "metadata": {},
   "source": [
    "Observations:\n",
    "\n",
    "Cost goes down from this, so this model should be good\n",
    "Runtime is also pretty fast, which is good for in-game calculations"
   ]
  }
 ],
 "metadata": {
  "kernelspec": {
   "display_name": "Python 3",
   "language": "python",
   "name": "python3"
  },
  "language_info": {
   "codemirror_mode": {
    "name": "ipython",
    "version": 3
   },
   "file_extension": ".py",
   "mimetype": "text/x-python",
   "name": "python",
   "nbconvert_exporter": "python",
   "pygments_lexer": "ipython3",
   "version": "3.11.2"
  }
 },
 "nbformat": 4,
 "nbformat_minor": 2
}
